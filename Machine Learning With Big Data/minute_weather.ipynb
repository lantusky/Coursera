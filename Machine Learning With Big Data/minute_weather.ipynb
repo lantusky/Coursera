{
 "cells": [
  {
   "cell_type": "code",
   "execution_count": 1,
   "metadata": {
    "collapsed": true
   },
   "outputs": [],
   "source": [
    "# basic libraries       \n",
    "import os\n",
    "import matplotlib.pyplot as plt\n",
    "import matplotlib\n",
    "import pandas as pd\n",
    "import numpy as np\n",
    "import pyspark\n",
    "from pyspark.sql import SparkSession, DataFrameNaFunctions\n",
    "from pyspark.ml import Pipeline\n",
    "from pyspark.ml.classification import DecisionTreeClassifier\n",
    "from pyspark.ml.feature import Binarizer, VectorAssembler, StringIndexer, VectorIndexer\n",
    "\n",
    "# state control\n",
    "state = 1\n",
    "np.random.seed(state)\n",
    "\n",
    "# To plot pretty figures\n",
    "import seaborn as sns \n",
    "plt.style.use('seaborn')\n",
    "sns.set(style=\"ticks\", color_codes=True)\n",
    "\n",
    "# Directories\n",
    "PROJECT_ROOT_DIR = '/home/tulan/PycharmProjects/Google/Machine_Learning/Machine Learning With Big Data/'\n",
    "DATA_DIR = '/home/tulan/PycharmProjects/Google/Machine_Learning/Machine Learning With Big Data/data/'\n",
    "IMAGE_DIR = PROJECT_ROOT_DIR + 'images'\n",
    "\n",
    "# save the figures\n",
    "def save_fig(fig_id, tight_layout=True):\n",
    "    if not os.path.exists(IMAGE_DIR):\n",
    "        os.makedirs(IMAGE_DIR)\n",
    "    path = os.path.join(IMAGE_DIR, fig_id + \".png\")\n",
    "    print(\"Saving figure\", fig_id)\n",
    "    if tight_layout:\n",
    "        plt.tight_layout()\n",
    "    plt.savefig(path, format='png', dpi=300)"
   ]
  },
  {
   "cell_type": "code",
   "execution_count": 2,
   "metadata": {},
   "outputs": [],
   "source": [
    "spark = SparkSession.builder \\\n",
    "    .master(\"local\") \\\n",
    "    .appName(\"Word Count\") \\\n",
    "    .config(\"spark.some.config.option\", \"some-value\") \\\n",
    "    .getOrCreate()"
   ]
  },
  {
   "cell_type": "code",
   "execution_count": 3,
   "metadata": {},
   "outputs": [],
   "source": [
    "df = spark.read.csv(DATA_DIR + 'minute_weather.csv', header=True, inferSchema=True)"
   ]
  },
  {
   "cell_type": "code",
   "execution_count": 4,
   "metadata": {},
   "outputs": [
    {
     "data": {
      "text/plain": [
       "['rowID',\n 'hpwren_timestamp',\n 'air_pressure',\n 'air_temp',\n 'avg_wind_direction',\n 'avg_wind_speed',\n 'max_wind_direction',\n 'max_wind_speed',\n 'min_wind_direction',\n 'min_wind_speed',\n 'rain_accumulation',\n 'rain_duration',\n 'relative_humidity']"
      ]
     },
     "execution_count": 4,
     "metadata": {},
     "output_type": "execute_result"
    }
   ],
   "source": [
    "df.columns"
   ]
  },
  {
   "cell_type": "code",
   "execution_count": 5,
   "metadata": {},
   "outputs": [
    {
     "name": "stdout",
     "output_type": "stream",
     "text": [
      "root\n |-- rowID: integer (nullable = true)\n |-- hpwren_timestamp: timestamp (nullable = true)\n |-- air_pressure: double (nullable = true)\n |-- air_temp: double (nullable = true)\n |-- avg_wind_direction: double (nullable = true)\n |-- avg_wind_speed: double (nullable = true)\n |-- max_wind_direction: double (nullable = true)\n |-- max_wind_speed: double (nullable = true)\n |-- min_wind_direction: double (nullable = true)\n |-- min_wind_speed: double (nullable = true)\n |-- rain_accumulation: double (nullable = true)\n |-- rain_duration: double (nullable = true)\n |-- relative_humidity: double (nullable = true)\n\n"
     ]
    }
   ],
   "source": [
    "df.printSchema()"
   ]
  },
  {
   "cell_type": "code",
   "execution_count": 6,
   "metadata": {},
   "outputs": [
    {
     "data": {
      "text/html": [
       "<div>\n",
       "<style>\n",
       "    .dataframe thead tr:only-child th {\n",
       "        text-align: right;\n",
       "    }\n",
       "\n",
       "    .dataframe thead th {\n",
       "        text-align: left;\n",
       "    }\n",
       "\n",
       "    .dataframe tbody tr th {\n",
       "        vertical-align: top;\n",
       "    }\n",
       "</style>\n",
       "<table border=\"1\" class=\"dataframe\">\n",
       "  <thead>\n",
       "    <tr style=\"text-align: right;\">\n",
       "      <th></th>\n",
       "      <th>0</th>\n",
       "      <th>1</th>\n",
       "      <th>2</th>\n",
       "      <th>3</th>\n",
       "      <th>4</th>\n",
       "    </tr>\n",
       "  </thead>\n",
       "  <tbody>\n",
       "    <tr>\n",
       "      <th>summary</th>\n",
       "      <td>count</td>\n",
       "      <td>mean</td>\n",
       "      <td>stddev</td>\n",
       "      <td>min</td>\n",
       "      <td>max</td>\n",
       "    </tr>\n",
       "    <tr>\n",
       "      <th>rowID</th>\n",
       "      <td>1587257</td>\n",
       "      <td>793628.0</td>\n",
       "      <td>458201.77244910353</td>\n",
       "      <td>0</td>\n",
       "      <td>1587256</td>\n",
       "    </tr>\n",
       "    <tr>\n",
       "      <th>air_pressure</th>\n",
       "      <td>1587257</td>\n",
       "      <td>916.8301266904576</td>\n",
       "      <td>3.0515931266813565</td>\n",
       "      <td>905.0</td>\n",
       "      <td>929.5</td>\n",
       "    </tr>\n",
       "    <tr>\n",
       "      <th>air_temp</th>\n",
       "      <td>1587257</td>\n",
       "      <td>61.851440428338314</td>\n",
       "      <td>11.833623786835963</td>\n",
       "      <td>31.64</td>\n",
       "      <td>99.5</td>\n",
       "    </tr>\n",
       "    <tr>\n",
       "      <th>avg_wind_direction</th>\n",
       "      <td>1586824</td>\n",
       "      <td>161.96537927331576</td>\n",
       "      <td>95.20811970204333</td>\n",
       "      <td>0.0</td>\n",
       "      <td>359.0</td>\n",
       "    </tr>\n",
       "    <tr>\n",
       "      <th>avg_wind_speed</th>\n",
       "      <td>1586824</td>\n",
       "      <td>2.7742720679795654</td>\n",
       "      <td>2.0607577935630297</td>\n",
       "      <td>0.0</td>\n",
       "      <td>32.3</td>\n",
       "    </tr>\n",
       "    <tr>\n",
       "      <th>max_wind_direction</th>\n",
       "      <td>1586824</td>\n",
       "      <td>163.40304784903682</td>\n",
       "      <td>92.36723428064334</td>\n",
       "      <td>0.0</td>\n",
       "      <td>359.0</td>\n",
       "    </tr>\n",
       "    <tr>\n",
       "      <th>max_wind_speed</th>\n",
       "      <td>1586824</td>\n",
       "      <td>3.3998134008568908</td>\n",
       "      <td>2.4231674336170603</td>\n",
       "      <td>0.1</td>\n",
       "      <td>36.0</td>\n",
       "    </tr>\n",
       "    <tr>\n",
       "      <th>min_wind_direction</th>\n",
       "      <td>1586824</td>\n",
       "      <td>166.82637078844283</td>\n",
       "      <td>97.46274620077509</td>\n",
       "      <td>0.0</td>\n",
       "      <td>359.0</td>\n",
       "    </tr>\n",
       "    <tr>\n",
       "      <th>min_wind_speed</th>\n",
       "      <td>1586824</td>\n",
       "      <td>2.1331304542931133</td>\n",
       "      <td>1.7453450849326482</td>\n",
       "      <td>0.0</td>\n",
       "      <td>32.0</td>\n",
       "    </tr>\n",
       "    <tr>\n",
       "      <th>rain_accumulation</th>\n",
       "      <td>1587256</td>\n",
       "      <td>0.0018548362708977325</td>\n",
       "      <td>0.9609715682155908</td>\n",
       "      <td>0.0</td>\n",
       "      <td>655.01</td>\n",
       "    </tr>\n",
       "    <tr>\n",
       "      <th>rain_duration</th>\n",
       "      <td>1587256</td>\n",
       "      <td>0.5361460281139274</td>\n",
       "      <td>81.14765645053616</td>\n",
       "      <td>0.0</td>\n",
       "      <td>63305.0</td>\n",
       "    </tr>\n",
       "    <tr>\n",
       "      <th>relative_humidity</th>\n",
       "      <td>1587257</td>\n",
       "      <td>47.608368777080436</td>\n",
       "      <td>26.21454390649885</td>\n",
       "      <td>0.7</td>\n",
       "      <td>93.0</td>\n",
       "    </tr>\n",
       "  </tbody>\n",
       "</table>\n",
       "</div>"
      ],
      "text/plain": [
       "<div>\n",
       "<style>\n",
       "    .dataframe thead tr:only-child th {\n",
       "        text-align: right;\n",
       "    }\n",
       "\n",
       "    .dataframe thead th {\n",
       "        text-align: left;\n",
       "    }\n",
       "\n",
       "    .dataframe tbody tr th {\n",
       "        vertical-align: top;\n",
       "    }\n",
       "</style>\n",
       "<table border=\"1\" class=\"dataframe\">\n",
       "  <thead>\n",
       "    <tr style=\"text-align: right;\">\n",
       "      <th></th>\n",
       "      <th>0</th>\n",
       "      <th>1</th>\n",
       "      <th>2</th>\n",
       "      <th>3</th>\n",
       "      <th>4</th>\n",
       "    </tr>\n",
       "  </thead>\n",
       "  <tbody>\n",
       "    <tr>\n",
       "      <th>summary</th>\n",
       "      <td>count</td>\n",
       "      <td>mean</td>\n",
       "      <td>stddev</td>\n",
       "      <td>min</td>\n",
       "      <td>max</td>\n",
       "    </tr>\n",
       "    <tr>\n",
       "      <th>rowID</th>\n",
       "      <td>1587257</td>\n",
       "      <td>793628.0</td>\n",
       "      <td>458201.77244910353</td>\n",
       "      <td>0</td>\n",
       "      <td>1587256</td>\n",
       "    </tr>\n",
       "    <tr>\n",
       "      <th>air_pressure</th>\n",
       "      <td>1587257</td>\n",
       "      <td>916.8301266904576</td>\n",
       "      <td>3.0515931266813565</td>\n",
       "      <td>905.0</td>\n",
       "      <td>929.5</td>\n",
       "    </tr>\n",
       "    <tr>\n",
       "      <th>air_temp</th>\n",
       "      <td>1587257</td>\n",
       "      <td>61.851440428338314</td>\n",
       "      <td>11.833623786835963</td>\n",
       "      <td>31.64</td>\n",
       "      <td>99.5</td>\n",
       "    </tr>\n",
       "    <tr>\n",
       "      <th>avg_wind_direction</th>\n",
       "      <td>1586824</td>\n",
       "      <td>161.96537927331576</td>\n",
       "      <td>95.20811970204333</td>\n",
       "      <td>0.0</td>\n",
       "      <td>359.0</td>\n",
       "    </tr>\n",
       "    <tr>\n",
       "      <th>avg_wind_speed</th>\n",
       "      <td>1586824</td>\n",
       "      <td>2.7742720679795654</td>\n",
       "      <td>2.0607577935630297</td>\n",
       "      <td>0.0</td>\n",
       "      <td>32.3</td>\n",
       "    </tr>\n",
       "    <tr>\n",
       "      <th>max_wind_direction</th>\n",
       "      <td>1586824</td>\n",
       "      <td>163.40304784903682</td>\n",
       "      <td>92.36723428064334</td>\n",
       "      <td>0.0</td>\n",
       "      <td>359.0</td>\n",
       "    </tr>\n",
       "    <tr>\n",
       "      <th>max_wind_speed</th>\n",
       "      <td>1586824</td>\n",
       "      <td>3.3998134008568908</td>\n",
       "      <td>2.4231674336170603</td>\n",
       "      <td>0.1</td>\n",
       "      <td>36.0</td>\n",
       "    </tr>\n",
       "    <tr>\n",
       "      <th>min_wind_direction</th>\n",
       "      <td>1586824</td>\n",
       "      <td>166.82637078844283</td>\n",
       "      <td>97.46274620077509</td>\n",
       "      <td>0.0</td>\n",
       "      <td>359.0</td>\n",
       "    </tr>\n",
       "    <tr>\n",
       "      <th>min_wind_speed</th>\n",
       "      <td>1586824</td>\n",
       "      <td>2.1331304542931133</td>\n",
       "      <td>1.7453450849326482</td>\n",
       "      <td>0.0</td>\n",
       "      <td>32.0</td>\n",
       "    </tr>\n",
       "    <tr>\n",
       "      <th>rain_accumulation</th>\n",
       "      <td>1587256</td>\n",
       "      <td>0.0018548362708977325</td>\n",
       "      <td>0.9609715682155908</td>\n",
       "      <td>0.0</td>\n",
       "      <td>655.01</td>\n",
       "    </tr>\n",
       "    <tr>\n",
       "      <th>rain_duration</th>\n",
       "      <td>1587256</td>\n",
       "      <td>0.5361460281139274</td>\n",
       "      <td>81.14765645053616</td>\n",
       "      <td>0.0</td>\n",
       "      <td>63305.0</td>\n",
       "    </tr>\n",
       "    <tr>\n",
       "      <th>relative_humidity</th>\n",
       "      <td>1587257</td>\n",
       "      <td>47.608368777080436</td>\n",
       "      <td>26.21454390649885</td>\n",
       "      <td>0.7</td>\n",
       "      <td>93.0</td>\n",
       "    </tr>\n",
       "  </tbody>\n",
       "</table>\n",
       "</div>"
      ]
     },
     "execution_count": 6,
     "metadata": {},
     "output_type": "execute_result"
    }
   ],
   "source": [
    "df.describe().toPandas().transpose()"
   ]
  },
  {
   "cell_type": "code",
   "execution_count": 8,
   "metadata": {},
   "outputs": [
    {
     "data": {
      "text/plain": [
       "1587257"
      ]
     },
     "execution_count": 8,
     "metadata": {},
     "output_type": "execute_result"
    }
   ],
   "source": [
    "df.count()"
   ]
  },
  {
   "cell_type": "code",
   "execution_count": 9,
   "metadata": {},
   "outputs": [
    {
     "data": {
      "text/plain": [
       "158726"
      ]
     },
     "execution_count": 9,
     "metadata": {},
     "output_type": "execute_result"
    }
   ],
   "source": [
    "filteredDF = df.filter((df.rowID % 10) == 0)\n",
    "filteredDF.count()"
   ]
  },
  {
   "cell_type": "code",
   "execution_count": 10,
   "metadata": {},
   "outputs": [
    {
     "data": {
      "text/plain": [
       "157812"
      ]
     },
     "execution_count": 10,
     "metadata": {},
     "output_type": "execute_result"
    }
   ],
   "source": [
    "filteredDF.filter(filteredDF.rain_accumulation == 0).count()"
   ]
  },
  {
   "cell_type": "code",
   "execution_count": 12,
   "metadata": {},
   "outputs": [],
   "source": [
    "workingDF = filteredDF.drop('rain_accumulation').drop('rain_duration').drop('hpwren_timestamp').dropna()"
   ]
  },
  {
   "cell_type": "code",
   "execution_count": 13,
   "metadata": {},
   "outputs": [
    {
     "data": {
      "text/plain": [
       "158680"
      ]
     },
     "execution_count": 13,
     "metadata": {},
     "output_type": "execute_result"
    }
   ],
   "source": [
    "workingDF.count()"
   ]
  },
  {
   "cell_type": "code",
   "execution_count": 16,
   "metadata": {},
   "outputs": [
    {
     "data": {
      "text/plain": [
       "0.9257915876425128"
      ]
     },
     "execution_count": 16,
     "metadata": {},
     "output_type": "execute_result"
    }
   ],
   "source": [
    "filteredDF.dropna().stat.corr('min_wind_speed', 'max_wind_speed')"
   ]
  },
  {
   "cell_type": "code",
   "execution_count": null,
   "metadata": {},
   "outputs": [],
   "source": []
  }
 ],
 "metadata": {
  "kernelspec": {
   "display_name": "Python 2",
   "language": "python",
   "name": "python2"
  },
  "language_info": {
   "codemirror_mode": {
    "name": "ipython",
    "version": 2
   },
   "file_extension": ".py",
   "mimetype": "text/x-python",
   "name": "python",
   "nbconvert_exporter": "python",
   "pygments_lexer": "ipython2",
   "version": "2.7.6"
  }
 },
 "nbformat": 4,
 "nbformat_minor": 0
}
